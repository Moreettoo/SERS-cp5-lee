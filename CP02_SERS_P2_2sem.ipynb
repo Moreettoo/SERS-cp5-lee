{
  "nbformat": 4,
  "nbformat_minor": 0,
  "metadata": {
    "colab": {
      "provenance": []
    },
    "kernelspec": {
      "name": "python3",
      "display_name": "Python 3"
    },
    "language_info": {
      "name": "python"
    }
  },
  "cells": [
    {
      "cell_type": "markdown",
      "source": [
        "#Parte 2"
      ],
      "metadata": {
        "id": "xn6OSsZMIK0o"
      }
    },
    {
      "cell_type": "markdown",
      "source": [
        "**Exercício 1**"
      ],
      "metadata": {
        "id": "Ti-S-zIyImsj"
      }
    },
    {
      "cell_type": "code",
      "source": [
        "import pandas as pd\n",
        "import numpy as np\n",
        "from sklearn.model_selection import train_test_split\n",
        "from sklearn.preprocessing import StandardScaler\n",
        "from sklearn.tree import DecisionTreeClassifier\n",
        "from sklearn.ensemble import RandomForestClassifier\n",
        "from sklearn.svm import SVC\n",
        "from sklearn.metrics import accuracy_score, confusion_matrix\n"
      ],
      "metadata": {
        "id": "gbVnup78a5Kd"
      },
      "execution_count": 28,
      "outputs": []
    },
    {
      "cell_type": "code",
      "source": [
        "df = pd.read_csv(\"SolarPrediction.csv\")"
      ],
      "metadata": {
        "id": "TcJjUmYBJZ6W"
      },
      "execution_count": 29,
      "outputs": []
    },
    {
      "cell_type": "code",
      "source": [
        "limite = df['Radiation'].median()\n",
        "df['Target'] = np.where(df['Radiation'] >= limite, 1, 0)"
      ],
      "metadata": {
        "id": "mkGiHMrSbTIN"
      },
      "execution_count": 30,
      "outputs": []
    },
    {
      "cell_type": "code",
      "source": [
        "X = df.drop(columns=['Radiation', 'Target', 'Data', 'Time', 'TimeSunRise', 'TimeSunSet'])\n",
        "y = df['Target']"
      ],
      "metadata": {
        "id": "C81eCfl4Jcqe"
      },
      "execution_count": 31,
      "outputs": []
    },
    {
      "cell_type": "code",
      "source": [
        "X_train, X_test, y_train, y_test = train_test_split(X, y, test_size=0.3, random_state=42)\n",
        "\n",
        "scaler = StandardScaler()\n",
        "X_train = scaler.fit_transform(X_train)\n",
        "X_test = scaler.transform(X_test)"
      ],
      "metadata": {
        "id": "rxxKqlfbyaPD"
      },
      "execution_count": 32,
      "outputs": []
    },
    {
      "cell_type": "code",
      "source": [
        "import matplotlib.pyplot as plt\n",
        "import seaborn as sns\n",
        "\n",
        "models = {\n",
        "    \"Árvore de Decisão\": DecisionTreeClassifier(random_state=42),\n",
        "    \"Random Forest\": RandomForestClassifier(random_state=42),\n",
        "    \"SVM\": SVC(random_state=42)\n",
        "}\n",
        "\n",
        "for nome, model in models.items():\n",
        "    model.fit(X_train, y_train)\n",
        "    y_pred = model.predict(X_test)\n",
        "    print(f\"\\nModelo: {nome}\")\n",
        "    print(\"Acurácia:\", accuracy_score(y_test, y_pred))\n",
        "    cm = confusion_matrix(y_test, y_pred)\n",
        "    print(\"Matriz de Confusão:\\n\", cm)"
      ],
      "metadata": {
        "colab": {
          "base_uri": "https://localhost:8080/"
        },
        "id": "Cqn9UhCOJckW",
        "outputId": "a3559cfb-8038-409e-8c0d-d6ec4e031a98"
      },
      "execution_count": 33,
      "outputs": [
        {
          "output_type": "stream",
          "name": "stdout",
          "text": [
            "\n",
            "Modelo: Árvore de Decisão\n",
            "Acurácia: 0.943911890679176\n",
            "Matriz de Confusão:\n",
            " [[4671  278]\n",
            " [ 272 4585]]\n",
            "\n",
            "Modelo: Random Forest\n",
            "Acurácia: 0.945849479910259\n",
            "Matriz de Confusão:\n",
            " [[4782  167]\n",
            " [ 364 4493]]\n",
            "\n",
            "Modelo: SVM\n",
            "Acurácia: 0.8447889047521925\n",
            "Matriz de Confusão:\n",
            " [[4676  273]\n",
            " [1249 3608]]\n"
          ]
        }
      ]
    },
    {
      "cell_type": "markdown",
      "source": [
        "**Exercício 2**"
      ],
      "metadata": {
        "id": "344-sH9WJy9A"
      }
    },
    {
      "cell_type": "code",
      "source": [
        "import pandas as pd\n",
        "import numpy as np\n",
        "from sklearn.model_selection import train_test_split\n",
        "from sklearn.preprocessing import StandardScaler\n",
        "from sklearn.linear_model import LinearRegression\n",
        "from sklearn.ensemble import RandomForestRegressor\n",
        "from sklearn.tree import DecisionTreeRegressor\n",
        "from sklearn.metrics import mean_squared_error, r2_score"
      ],
      "metadata": {
        "id": "zVl1mptZJ3Ak"
      },
      "execution_count": 20,
      "outputs": []
    },
    {
      "cell_type": "code",
      "source": [
        "df = pd.read_csv(\"T1.csv\")"
      ],
      "metadata": {
        "id": "4KbWbitOLfWp"
      },
      "execution_count": 21,
      "outputs": []
    },
    {
      "cell_type": "code",
      "source": [
        "X = df.drop(columns=['LV ActivePower (kW)', 'Date/Time'])\n",
        "y = df['LV ActivePower (kW)']"
      ],
      "metadata": {
        "id": "rML7qNfFLfTK"
      },
      "execution_count": 24,
      "outputs": []
    },
    {
      "cell_type": "code",
      "source": [
        "X_train, X_test, y_train, y_test = train_test_split(X, y, test_size=0.2, random_state=42)\n",
        "\n",
        "scaler = StandardScaler()\n",
        "X_train = scaler.fit_transform(X_train)\n",
        "X_test = scaler.transform(X_test)"
      ],
      "metadata": {
        "id": "5gYpV6dBLfQq"
      },
      "execution_count": 25,
      "outputs": []
    },
    {
      "cell_type": "code",
      "source": [
        "models = {\n",
        "    \"Regressão Linear\": LinearRegression(),\n",
        "    \"Árvore de Regressão\": DecisionTreeRegressor(random_state=42),\n",
        "    \"Random Forest Regressor\": RandomForestRegressor(random_state=42)\n",
        "}\n",
        "\n",
        "for nome, model in models.items():\n",
        "    model.fit(X_train, y_train)\n",
        "    y_pred = model.predict(X_test)\n",
        "    rmse = np.sqrt(mean_squared_error(y_test, y_pred))\n",
        "    r2 = r2_score(y_test, y_pred)\n",
        "    print(f\"\\nModelo: {nome}\")\n",
        "    print(\"RMSE:\", rmse)\n",
        "    print(\"R²:\", r2)"
      ],
      "metadata": {
        "colab": {
          "base_uri": "https://localhost:8080/"
        },
        "id": "m8LvBaWALfOK",
        "outputId": "c29b4e35-7fe6-4901-f6bf-e4e7c0b2f4ff"
      },
      "execution_count": 26,
      "outputs": [
        {
          "output_type": "stream",
          "name": "stdout",
          "text": [
            "\n",
            "Modelo: Regressão Linear\n",
            "RMSE: 411.7100216966853\n",
            "R²: 0.9006599245385882\n",
            "\n",
            "Modelo: Árvore de Regressão\n",
            "RMSE: 538.7903745745243\n",
            "R²: 0.8298698576314649\n",
            "\n",
            "Modelo: Random Forest Regressor\n",
            "RMSE: 412.8221448557191\n",
            "R²: 0.9001225190519474\n"
          ]
        }
      ]
    }
  ]
}