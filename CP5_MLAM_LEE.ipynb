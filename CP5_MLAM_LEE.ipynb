{
  "nbformat": 4,
  "nbformat_minor": 0,
  "metadata": {
    "colab": {
      "provenance": []
    },
    "kernelspec": {
      "name": "python3",
      "display_name": "Python 3"
    },
    "language_info": {
      "name": "python"
    }
  },
  "cells": [
    {
      "cell_type": "code",
      "execution_count": 25,
      "metadata": {
        "id": "RSDwjEw1_WQe"
      },
      "outputs": [],
      "source": [
        "import pandas as pd\n",
        "from sklearn.model_selection import train_test_split\n",
        "from sklearn.tree import DecisionTreeClassifier\n",
        "from sklearn.ensemble import RandomForestClassifier\n",
        "from sklearn.svm import SVC\n",
        "from sklearn.metrics import accuracy_score, classification_report\n",
        "import numpy as np\n",
        "import matplotlib.pyplot as plt\n",
        "import seaborn as sns\n",
        "from sklearn.metrics import confusion_matrix\n",
        "import numpy as np\n",
        "from sklearn.preprocessing import StandardScaler\n",
        "from sklearn.linear_model import LinearRegression\n",
        "from sklearn.tree import DecisionTreeRegressor\n",
        "from sklearn.ensemble import RandomForestRegressor\n",
        "from sklearn.metrics import r2_score, mean_absolute_error, mean_squared_error"
      ]
    },
    {
      "cell_type": "code",
      "source": [
        "df = pd.read_csv(\"/content/SolarPrediction.csv\")"
      ],
      "metadata": {
        "id": "HDPntbSrEtSL"
      },
      "execution_count": 16,
      "outputs": []
    },
    {
      "cell_type": "code",
      "source": [
        "df.columns"
      ],
      "metadata": {
        "colab": {
          "base_uri": "https://localhost:8080/"
        },
        "id": "r55WaWzSF1K_",
        "outputId": "abf60968-d437-478a-b859-9003449f9e45"
      },
      "execution_count": 17,
      "outputs": [
        {
          "output_type": "execute_result",
          "data": {
            "text/plain": [
              "Index(['UNIXTime', 'Data', 'Time', 'Radiation', 'Temperature', 'Pressure',\n",
              "       'Humidity', 'WindDirection(Degrees)', 'Speed', 'TimeSunRise',\n",
              "       'TimeSunSet'],\n",
              "      dtype='object')"
            ]
          },
          "metadata": {},
          "execution_count": 17
        }
      ]
    },
    {
      "cell_type": "code",
      "source": [
        "median_radiation = df['Radiation'].median()"
      ],
      "metadata": {
        "id": "JWfku7hoFE9k"
      },
      "execution_count": 18,
      "outputs": []
    },
    {
      "cell_type": "code",
      "source": [
        "df['Radiation_Class'] = (df['Radiation'] > median_radiation).astype(int)\n",
        "\n",
        "\n",
        "X = df[['Temperature', 'Pressure', 'Humidity']]\n",
        "\n",
        "y = df['Radiation_Class']\n",
        "\n",
        "X_train, X_test, y_train, y_test = train_test_split(X, y, test_size=0.3, random_state=42)"
      ],
      "metadata": {
        "id": "3K_SVbC-HKDq"
      },
      "execution_count": 19,
      "outputs": []
    },
    {
      "cell_type": "code",
      "source": [
        "decision_tree = DecisionTreeClassifier(random_state=42)\n",
        "decision_tree.fit(X_train, y_train)\n",
        "\n",
        "y_pred_dt = decision_tree.predict(X_test)\n",
        "\n",
        "accuracy_dt = accuracy_score(y_test, y_pred_dt)\n",
        "print(f\"Acurácia: {accuracy_dt:.4f}\")\n",
        "print(\"Relatório de Classificação:\")\n",
        "print(classification_report(y_test, y_pred_dt))"
      ],
      "metadata": {
        "colab": {
          "base_uri": "https://localhost:8080/"
        },
        "id": "I-t_Xh94I2Mk",
        "outputId": "3163278d-d554-4602-ec20-73eeee2ed53d"
      },
      "execution_count": 20,
      "outputs": [
        {
          "output_type": "stream",
          "name": "stdout",
          "text": [
            "Acurácia: 0.8411\n",
            "Relatório de Classificação:\n",
            "              precision    recall  f1-score   support\n",
            "\n",
            "           0       0.82      0.88      0.85      4953\n",
            "           1       0.87      0.80      0.83      4853\n",
            "\n",
            "    accuracy                           0.84      9806\n",
            "   macro avg       0.84      0.84      0.84      9806\n",
            "weighted avg       0.84      0.84      0.84      9806\n",
            "\n"
          ]
        }
      ]
    },
    {
      "cell_type": "code",
      "source": [
        "random_forest = RandomForestClassifier(random_state=42)\n",
        "random_forest.fit(X_train, y_train)\n",
        "\n",
        "y_pred_rf = random_forest.predict(X_test)\n",
        "\n",
        "accuracy_rf = accuracy_score(y_test, y_pred_rf)\n",
        "print(f\"Acurácia: {accuracy_rf:.4f}\")\n",
        "print(\"Relatório de Classificação:\")\n",
        "print(classification_report(y_test, y_pred_rf))"
      ],
      "metadata": {
        "colab": {
          "base_uri": "https://localhost:8080/"
        },
        "id": "6LcAZnzcI9uX",
        "outputId": "46eca7e3-ad9f-4035-9fe5-c1cbb7c1c609"
      },
      "execution_count": 21,
      "outputs": [
        {
          "output_type": "stream",
          "name": "stdout",
          "text": [
            "Acurácia: 0.8489\n",
            "Relatório de Classificação:\n",
            "              precision    recall  f1-score   support\n",
            "\n",
            "           0       0.83      0.88      0.85      4953\n",
            "           1       0.87      0.82      0.84      4853\n",
            "\n",
            "    accuracy                           0.85      9806\n",
            "   macro avg       0.85      0.85      0.85      9806\n",
            "weighted avg       0.85      0.85      0.85      9806\n",
            "\n"
          ]
        }
      ]
    },
    {
      "cell_type": "code",
      "source": [
        "svm_classifier = SVC(random_state=42)\n",
        "svm_classifier.fit(X_train, y_train)\n",
        "\n",
        "y_pred_svm = svm_classifier.predict(X_test)\n",
        "\n",
        "accuracy_svm = accuracy_score(y_test, y_pred_svm)\n",
        "print(f\"Acurácia: {accuracy_svm:.4f}\")\n",
        "print(\"Relatório de Classificação:\")\n",
        "print(classification_report(y_test, y_pred_svm))"
      ],
      "metadata": {
        "colab": {
          "base_uri": "https://localhost:8080/"
        },
        "id": "lgLn4bypJE9_",
        "outputId": "9da846e3-ae0e-4e0f-fbbb-c3a3fba43909"
      },
      "execution_count": 22,
      "outputs": [
        {
          "output_type": "stream",
          "name": "stdout",
          "text": [
            "Acurácia: 0.7850\n",
            "Relatório de Classificação:\n",
            "              precision    recall  f1-score   support\n",
            "\n",
            "           0       0.74      0.89      0.81      4953\n",
            "           1       0.86      0.67      0.76      4853\n",
            "\n",
            "    accuracy                           0.79      9806\n",
            "   macro avg       0.80      0.78      0.78      9806\n",
            "weighted avg       0.80      0.79      0.78      9806\n",
            "\n"
          ]
        }
      ]
    },
    {
      "cell_type": "code",
      "source": [
        "y_test = np.array([0, 1, 1, 0, 0, 1, 0, 1, 1, 1, 0, 0, 1, 0, 1])\n",
        "y_pred = np.array([0, 1, 0, 0, 0, 1, 1, 1, 1, 0, 0, 1, 1, 0, 1])\n",
        "\n",
        "\n",
        "cm = confusion_matrix(y_test, y_pred)\n",
        "\n",
        "labels = ['Abaixo/Igual Mediana', 'Acima da Mediana']\n",
        "\n",
        "plt.figure(figsize=(8, 6))\n",
        "sns.heatmap(cm, annot=True, fmt='d', cmap='Blues',\n",
        "            xticklabels=labels, yticklabels=labels)\n",
        "plt.title('Matriz de Confusão', fontsize=16)\n",
        "plt.ylabel('Classe Verdadeira', fontsize=12)\n",
        "plt.xlabel('Classe Prevista', fontsize=12)\n",
        "\n",
        "plt.show()"
      ],
      "metadata": {
        "colab": {
          "base_uri": "https://localhost:8080/",
          "height": 570
        },
        "id": "isbUGn2oKPEY",
        "outputId": "1bf93f78-e19e-43a3-864d-440946cb4de2"
      },
      "execution_count": 24,
      "outputs": [
        {
          "output_type": "display_data",
          "data": {
            "text/plain": [
              "<Figure size 800x600 with 2 Axes>"
            ],
            "image/png": "[encoded data removed]"
          },
          "metadata": {}
        }
      ]
    },
    {
      "cell_type": "code",
      "source": [
        "data = {\n",
        "    'UNIXTime': pd.to_datetime(['2025-09-18 20:00:00', '2025-09-18 21:00:00']*50).astype(int) // 10**9,\n",
        "    'Data': ['9/18/2025']*100,\n",
        "    'Time': [f'{h}:{m:02d}:00' for h in range(10) for m in range(10)],\n",
        "    'Radiation': np.random.rand(100) * 800,\n",
        "    'Temperature': np.random.normal(25, 5, 100),\n",
        "    'Pressure': np.random.normal(1013, 10, 100),\n",
        "    'Humidity': np.random.normal(50, 15, 100),\n",
        "    'WindDirection(Degrees)': np.random.randint(0, 360, 100),\n",
        "    'Speed': np.random.normal(10, 5, 100),\n",
        "    'TimeSunRise': ['06:00:00']*100,\n",
        "    'TimeSunSet': ['18:00:00']*100\n",
        "}\n",
        "df = pd.DataFrame(data)\n",
        "\n",
        "\n",
        "df['datetime'] = pd.to_datetime(df['Data'] + ' ' + df['Time'], dayfirst=False)\n",
        "\n",
        "df['hora_do_dia'] = df['datetime'].dt.hour\n",
        "df['dia_da_semana'] = df['datetime'].dt.dayofweek\n",
        "\n",
        "y = df['Radiation']\n",
        "\n",
        "X = df.drop(columns=['Radiation', 'Data', 'Time', 'TimeSunRise', 'TimeSunSet', 'datetime'])\n",
        "\n",
        "X_train, X_test, y_train, y_test = train_test_split(X, y, test_size=0.3, random_state=42)\n",
        "\n",
        "scaler = StandardScaler()\n",
        "X_train_scaled = scaler.fit_transform(X_train)\n",
        "X_test_scaled = scaler.transform(X_test)"
      ],
      "metadata": {
        "id": "V3Eo4HnBKTdZ"
      },
      "execution_count": 27,
      "outputs": []
    },
    {
      "cell_type": "code",
      "source": [
        "models = {\n",
        "    \"Regressão Linear\": LinearRegression(),\n",
        "    \"Árvore de Regressão\": DecisionTreeRegressor(random_state=42),\n",
        "    \"Random Forest Regressor\": RandomForestRegressor(random_state=42)\n",
        "}\n",
        "\n",
        "results = {}\n",
        "\n",
        "for name, model in models.items():\n",
        "    model.fit(X_train_scaled, y_train)\n",
        "    y_pred = model.predict(X_test_scaled)\n",
        "\n",
        "    results[name] = {\n",
        "        'R²': r2_score(y_test, y_pred),\n",
        "        'MAE': mean_absolute_error(y_test, y_pred),\n",
        "        'RMSE': np.sqrt(mean_squared_error(y_test, y_pred))\n",
        "    }\n",
        "\n",
        "results_df = pd.DataFrame(results).T.sort_values(by='R²', ascending=False)\n",
        "\n",
        "print(\"--- Desempenho dos Modelos de Regressão (Prevendo Radiação) ---\")\n",
        "print(results_df)\n"
      ],
      "metadata": {
        "colab": {
          "base_uri": "https://localhost:8080/"
        },
        "id": "RpwDjjj_MLrJ",
        "outputId": "f7a794ae-7e86-4266-ecf6-d4899afb8fbe"
      },
      "execution_count": 28,
      "outputs": [
        {
          "output_type": "stream",
          "name": "stdout",
          "text": [
            "--- Desempenho dos Modelos de Regressão (Prevendo Radiação) ---\n",
            "                               R²         MAE        RMSE\n",
            "Random Forest Regressor -0.062727  226.552397  265.905253\n",
            "Regressão Linear        -0.100698  235.347048  270.614016\n",
            "Árvore de Regressão     -0.768181  268.246469  342.988447\n"
          ]
        }
      ]
    }
  ]
}